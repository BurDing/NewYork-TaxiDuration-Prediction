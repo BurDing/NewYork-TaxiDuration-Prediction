{
 "cells": [
  {
   "cell_type": "code",
   "execution_count": 1,
   "metadata": {},
   "outputs": [
    {
     "name": "stderr",
     "output_type": "stream",
     "text": [
      "C:\\Users\\a1381\\Anaconda3\\lib\\site-packages\\sklearn\\cross_validation.py:41: DeprecationWarning: This module was deprecated in version 0.18 in favor of the model_selection module into which all the refactored classes and functions are moved. Also note that the interface of the new CV iterators are different from that of this module. This module will be removed in 0.20.\n",
      "  \"This module will be removed in 0.20.\", DeprecationWarning)\n"
     ]
    }
   ],
   "source": [
    "import matplotlib\n",
    "import matplotlib.pyplot as plt\n",
    "from matplotlib.pyplot import *\n",
    "from matplotlib import cm\n",
    "import seaborn as sns\n",
    "import numpy as np\n",
    "import pandas as pd\n",
    "import string\n",
    "import re, calendar, time, datetime\n",
    "from datetime import datetime\n",
    "from collections import Counter\n",
    "import time          #to get the system time\n",
    "import scipy         #for other dependancies\n",
    "from sklearn.cluster import KMeans # for doing K-means clustering\n",
    "import math          #for basic maths operations\n",
    "import seaborn as sns #for making plots\n",
    "import warnings\n",
    "import xgboost as xgb\n",
    "from sklearn.model_selection import train_test_split\n",
    "from sklearn.decomposition import PCA\n",
    "from sklearn.cluster import MiniBatchKMeans\n",
    "import warnings\n",
    "warnings.filterwarnings('ignore')"
   ]
  },
  {
   "cell_type": "markdown",
   "metadata": {},
   "source": [
    "# Train"
   ]
  },
  {
   "cell_type": "code",
   "execution_count": 2,
   "metadata": {
    "collapsed": true
   },
   "outputs": [],
   "source": [
    "# Read in the processed data\n",
    "train = pd.read_csv('New.csv')"
   ]
  },
  {
   "cell_type": "code",
   "execution_count": 57,
   "metadata": {
    "collapsed": true
   },
   "outputs": [],
   "source": [
    "def haversine_(lat1, lng1, lat2, lng2):\n",
    "    \"\"\"\n",
    "    function to calculate haversine distance between two co-ordinates\n",
    "    input: array of lat and lng\n",
    "    output: array of distance\n",
    "    \"\"\"\n",
    "    lat1, lng1, lat2, lng2 = map(np.radians, (lat1, lng1, lat2, lng2))\n",
    "    AVG_EARTH_RADIUS = 6371  # in km\n",
    "    lat = lat2 - lat1\n",
    "    lng = lng2 - lng1\n",
    "    d = np.sin(lat * 0.5) ** 2 + np.cos(lat1) * np.cos(lat2) * np.sin(lng * 0.5) ** 2\n",
    "    h = 2 * AVG_EARTH_RADIUS * np.arcsin(np.sqrt(d))\n",
    "    return(h)"
   ]
  },
  {
   "cell_type": "markdown",
   "metadata": {},
   "source": [
    "## Speed"
   ]
  },
  {
   "cell_type": "code",
   "execution_count": 3,
   "metadata": {
    "collapsed": true
   },
   "outputs": [],
   "source": [
    "# Speed calculated by external data (osrm)\n",
    "train['fast_speed'] = train.total_distance / (train.total_travel_time + 0.1)"
   ]
  },
  {
   "cell_type": "markdown",
   "metadata": {},
   "source": [
    "## store_and_fwd_flag"
   ]
  },
  {
   "cell_type": "markdown",
   "metadata": {},
   "source": [
    "Convert the string into 1, 0"
   ]
  },
  {
   "cell_type": "code",
   "execution_count": 36,
   "metadata": {
    "collapsed": true
   },
   "outputs": [],
   "source": [
    "train['store_and_fwd_flag'] = 1*(train.store_and_fwd_flag == 'Y')"
   ]
  },
  {
   "cell_type": "markdown",
   "metadata": {},
   "source": [
    "## Holiday / Weekend / Pickup_time"
   ]
  },
  {
   "cell_type": "code",
   "execution_count": 4,
   "metadata": {
    "collapsed": true
   },
   "outputs": [],
   "source": [
    "holiday = pd.read_csv('NYC_2016Holidays.csv',sep=';')\n",
    "holiday['Date'] = holiday['Date'].apply(lambda x: x + ' 2016')"
   ]
  },
  {
   "cell_type": "code",
   "execution_count": 5,
   "metadata": {},
   "outputs": [
    {
     "data": {
      "text/html": [
       "<div>\n",
       "<style>\n",
       "    .dataframe thead tr:only-child th {\n",
       "        text-align: right;\n",
       "    }\n",
       "\n",
       "    .dataframe thead th {\n",
       "        text-align: left;\n",
       "    }\n",
       "\n",
       "    .dataframe tbody tr th {\n",
       "        vertical-align: top;\n",
       "    }\n",
       "</style>\n",
       "<table border=\"1\" class=\"dataframe\">\n",
       "  <thead>\n",
       "    <tr style=\"text-align: right;\">\n",
       "      <th></th>\n",
       "      <th>Day</th>\n",
       "      <th>Date</th>\n",
       "      <th>Holiday</th>\n",
       "    </tr>\n",
       "  </thead>\n",
       "  <tbody>\n",
       "    <tr>\n",
       "      <th>0</th>\n",
       "      <td>Friday</td>\n",
       "      <td>January 01 2016</td>\n",
       "      <td>New Years Day</td>\n",
       "    </tr>\n",
       "    <tr>\n",
       "      <th>1</th>\n",
       "      <td>Monday</td>\n",
       "      <td>January 18 2016</td>\n",
       "      <td>Martin Luther King Jr. Day</td>\n",
       "    </tr>\n",
       "    <tr>\n",
       "      <th>2</th>\n",
       "      <td>Friday</td>\n",
       "      <td>February 12 2016</td>\n",
       "      <td>Lincoln's Birthday</td>\n",
       "    </tr>\n",
       "    <tr>\n",
       "      <th>3</th>\n",
       "      <td>Monday</td>\n",
       "      <td>February 15 2016</td>\n",
       "      <td>Presidents' Day</td>\n",
       "    </tr>\n",
       "    <tr>\n",
       "      <th>4</th>\n",
       "      <td>Sunday</td>\n",
       "      <td>May 08 2016</td>\n",
       "      <td>Mother's Day</td>\n",
       "    </tr>\n",
       "  </tbody>\n",
       "</table>\n",
       "</div>"
      ],
      "text/plain": [
       "      Day              Date                     Holiday\n",
       "0  Friday   January 01 2016               New Years Day\n",
       "1  Monday   January 18 2016  Martin Luther King Jr. Day\n",
       "2  Friday  February 12 2016          Lincoln's Birthday\n",
       "3  Monday  February 15 2016             Presidents' Day\n",
       "4  Sunday       May 08 2016                Mother's Day"
      ]
     },
     "execution_count": 5,
     "metadata": {},
     "output_type": "execute_result"
    }
   ],
   "source": [
    "holiday.head()"
   ]
  },
  {
   "cell_type": "code",
   "execution_count": 6,
   "metadata": {
    "collapsed": true
   },
   "outputs": [],
   "source": [
    "holiday['Date'] = pd.to_datetime(holiday['Date'])\n",
    "holiday['pick_month'] = holiday['Date'].dt.month\n",
    "holiday['day'] = holiday['Date'].dt.day\n",
    "holiday['is_holiday'] = 1"
   ]
  },
  {
   "cell_type": "code",
   "execution_count": 7,
   "metadata": {},
   "outputs": [
    {
     "data": {
      "text/plain": [
       "0.0    1407522\n",
       "1.0      51122\n",
       "Name: is_holiday, dtype: int64"
      ]
     },
     "execution_count": 7,
     "metadata": {},
     "output_type": "execute_result"
    }
   ],
   "source": [
    "train = pd.merge(train, holiday[['pick_month', 'day', 'is_holiday']], how='left', on=['pick_month', 'day'])\n",
    "train['is_holiday'][train['is_holiday'].isnull()] = 0\n",
    "train.is_holiday.value_counts()"
   ]
  },
  {
   "cell_type": "code",
   "execution_count": 8,
   "metadata": {},
   "outputs": [
    {
     "data": {
      "text/plain": [
       "0    1042410\n",
       "1     416234\n",
       "Name: is_weekend, dtype: int64"
      ]
     },
     "execution_count": 8,
     "metadata": {},
     "output_type": "execute_result"
    }
   ],
   "source": [
    "weekend_index = train[(train.day_of_week == 5) | (train.day_of_week == 6)].index\n",
    "train['is_weekend'] = 0\n",
    "train.ix[weekend_index, 'is_weekend'] = 1\n",
    "train.is_weekend.value_counts()"
   ]
  },
  {
   "cell_type": "code",
   "execution_count": 9,
   "metadata": {
    "collapsed": true
   },
   "outputs": [],
   "source": [
    "train['pickup_time'] = train.hour + train.minute/60"
   ]
  },
  {
   "cell_type": "markdown",
   "metadata": {},
   "source": [
    "## Shortest path and time"
   ]
  },
  {
   "cell_type": "code",
   "execution_count": 10,
   "metadata": {
    "collapsed": true
   },
   "outputs": [],
   "source": [
    "train_fr_1 = pd.read_csv('C:/Users/a1381/Desktop/UIUC/Python/Project/Taxi/new-york-city-taxi-with-osrm/fastest_routes_train_part_1.csv')\n",
    "train_fr_2 = pd.read_csv('C:/Users/a1381/Desktop/UIUC/Python/Project/Taxi/new-york-city-taxi-with-osrm/fastest_routes_train_part_2.csv')\n",
    "train_fr = pd.concat([train_fr_1, train_fr_2])"
   ]
  },
  {
   "cell_type": "code",
   "execution_count": 11,
   "metadata": {
    "collapsed": true
   },
   "outputs": [],
   "source": [
    "train_fr['step_direction'] = train_fr['step_direction'].astype('str')\n",
    "train = pd.merge(train, train_fr[['id', 'step_direction']], how='left', on='id')\n",
    "train['right_count'] = train['step_direction'].str.count('right')\n",
    "train['left_count'] = train['step_direction'].str.count('left')\n",
    "del train['step_direction']"
   ]
  },
  {
   "cell_type": "markdown",
   "metadata": {},
   "source": [
    "## Weather"
   ]
  },
  {
   "cell_type": "markdown",
   "metadata": {},
   "source": [
    "Extract features Precipitation, Snow, Visibility, Temperature"
   ]
  },
  {
   "cell_type": "code",
   "execution_count": 12,
   "metadata": {},
   "outputs": [
    {
     "data": {
      "text/html": [
       "<div>\n",
       "<style>\n",
       "    .dataframe thead tr:only-child th {\n",
       "        text-align: right;\n",
       "    }\n",
       "\n",
       "    .dataframe thead th {\n",
       "        text-align: left;\n",
       "    }\n",
       "\n",
       "    .dataframe tbody tr th {\n",
       "        vertical-align: top;\n",
       "    }\n",
       "</style>\n",
       "<table border=\"1\" class=\"dataframe\">\n",
       "  <thead>\n",
       "    <tr style=\"text-align: right;\">\n",
       "      <th></th>\n",
       "      <th>Time</th>\n",
       "      <th>Temp.</th>\n",
       "      <th>Windchill</th>\n",
       "      <th>Heat Index</th>\n",
       "      <th>Humidity</th>\n",
       "      <th>Pressure</th>\n",
       "      <th>Dew Point</th>\n",
       "      <th>Visibility</th>\n",
       "      <th>Wind Dir</th>\n",
       "      <th>Wind Speed</th>\n",
       "      <th>Gust Speed</th>\n",
       "      <th>Precip</th>\n",
       "      <th>Events</th>\n",
       "      <th>Conditions</th>\n",
       "    </tr>\n",
       "  </thead>\n",
       "  <tbody>\n",
       "    <tr>\n",
       "      <th>0</th>\n",
       "      <td>2015-12-31 02:00:00</td>\n",
       "      <td>7.8</td>\n",
       "      <td>7.1</td>\n",
       "      <td>NaN</td>\n",
       "      <td>0.89</td>\n",
       "      <td>1017.0</td>\n",
       "      <td>6.1</td>\n",
       "      <td>8.0</td>\n",
       "      <td>NNE</td>\n",
       "      <td>5.6</td>\n",
       "      <td>0.0</td>\n",
       "      <td>0.8</td>\n",
       "      <td>None</td>\n",
       "      <td>Overcast</td>\n",
       "    </tr>\n",
       "    <tr>\n",
       "      <th>1</th>\n",
       "      <td>2015-12-31 03:00:00</td>\n",
       "      <td>7.2</td>\n",
       "      <td>5.9</td>\n",
       "      <td>NaN</td>\n",
       "      <td>0.90</td>\n",
       "      <td>1016.5</td>\n",
       "      <td>5.6</td>\n",
       "      <td>12.9</td>\n",
       "      <td>Variable</td>\n",
       "      <td>7.4</td>\n",
       "      <td>0.0</td>\n",
       "      <td>0.3</td>\n",
       "      <td>None</td>\n",
       "      <td>Overcast</td>\n",
       "    </tr>\n",
       "    <tr>\n",
       "      <th>2</th>\n",
       "      <td>2015-12-31 04:00:00</td>\n",
       "      <td>7.2</td>\n",
       "      <td>NaN</td>\n",
       "      <td>NaN</td>\n",
       "      <td>0.90</td>\n",
       "      <td>1016.7</td>\n",
       "      <td>5.6</td>\n",
       "      <td>12.9</td>\n",
       "      <td>Calm</td>\n",
       "      <td>0.0</td>\n",
       "      <td>0.0</td>\n",
       "      <td>0.0</td>\n",
       "      <td>None</td>\n",
       "      <td>Overcast</td>\n",
       "    </tr>\n",
       "  </tbody>\n",
       "</table>\n",
       "</div>"
      ],
      "text/plain": [
       "                 Time  Temp.  Windchill  Heat Index  Humidity  Pressure  \\\n",
       "0 2015-12-31 02:00:00    7.8        7.1         NaN      0.89    1017.0   \n",
       "1 2015-12-31 03:00:00    7.2        5.9         NaN      0.90    1016.5   \n",
       "2 2015-12-31 04:00:00    7.2        NaN         NaN      0.90    1016.7   \n",
       "\n",
       "   Dew Point  Visibility  Wind Dir  Wind Speed  Gust Speed  Precip Events  \\\n",
       "0        6.1         8.0       NNE         5.6         0.0     0.8   None   \n",
       "1        5.6        12.9  Variable         7.4         0.0     0.3   None   \n",
       "2        5.6        12.9      Calm         0.0         0.0     0.0   None   \n",
       "\n",
       "  Conditions  \n",
       "0   Overcast  \n",
       "1   Overcast  \n",
       "2   Overcast  "
      ]
     },
     "execution_count": 12,
     "metadata": {},
     "output_type": "execute_result"
    }
   ],
   "source": [
    "weather = pd.read_csv('NYC_Metars.csv', parse_dates=['Time'])\n",
    "weather.head(3)"
   ]
  },
  {
   "cell_type": "code",
   "execution_count": 13,
   "metadata": {
    "collapsed": true
   },
   "outputs": [],
   "source": [
    "weather['snow']= 1*(weather.Events=='Snow') + 1*(weather.Events=='Fog\\n\\t,\\nSnow')\n",
    "weather['year'] = weather['Time'].dt.year\n",
    "weather['pick_month'] = weather['Time'].dt.month\n",
    "weather['day'] = weather['Time'].dt.day\n",
    "weather['hour'] = weather['Time'].dt.hour\n",
    "weather = weather[weather['year'] == 2016][['pick_month','day','hour','Temp.','Precip','snow','Visibility']]"
   ]
  },
  {
   "cell_type": "code",
   "execution_count": 14,
   "metadata": {},
   "outputs": [
    {
     "data": {
      "text/html": [
       "<div>\n",
       "<style>\n",
       "    .dataframe thead tr:only-child th {\n",
       "        text-align: right;\n",
       "    }\n",
       "\n",
       "    .dataframe thead th {\n",
       "        text-align: left;\n",
       "    }\n",
       "\n",
       "    .dataframe tbody tr th {\n",
       "        vertical-align: top;\n",
       "    }\n",
       "</style>\n",
       "<table border=\"1\" class=\"dataframe\">\n",
       "  <thead>\n",
       "    <tr style=\"text-align: right;\">\n",
       "      <th></th>\n",
       "      <th>pick_month</th>\n",
       "      <th>day</th>\n",
       "      <th>hour</th>\n",
       "      <th>Temp.</th>\n",
       "      <th>Precip</th>\n",
       "      <th>snow</th>\n",
       "      <th>Visibility</th>\n",
       "    </tr>\n",
       "  </thead>\n",
       "  <tbody>\n",
       "    <tr>\n",
       "      <th>22</th>\n",
       "      <td>1</td>\n",
       "      <td>1</td>\n",
       "      <td>0</td>\n",
       "      <td>5.6</td>\n",
       "      <td>0.0</td>\n",
       "      <td>0</td>\n",
       "      <td>16.1</td>\n",
       "    </tr>\n",
       "    <tr>\n",
       "      <th>23</th>\n",
       "      <td>1</td>\n",
       "      <td>1</td>\n",
       "      <td>1</td>\n",
       "      <td>5.6</td>\n",
       "      <td>0.0</td>\n",
       "      <td>0</td>\n",
       "      <td>16.1</td>\n",
       "    </tr>\n",
       "    <tr>\n",
       "      <th>24</th>\n",
       "      <td>1</td>\n",
       "      <td>1</td>\n",
       "      <td>2</td>\n",
       "      <td>5.6</td>\n",
       "      <td>0.0</td>\n",
       "      <td>0</td>\n",
       "      <td>16.1</td>\n",
       "    </tr>\n",
       "    <tr>\n",
       "      <th>25</th>\n",
       "      <td>1</td>\n",
       "      <td>1</td>\n",
       "      <td>3</td>\n",
       "      <td>5.0</td>\n",
       "      <td>0.0</td>\n",
       "      <td>0</td>\n",
       "      <td>16.1</td>\n",
       "    </tr>\n",
       "    <tr>\n",
       "      <th>26</th>\n",
       "      <td>1</td>\n",
       "      <td>1</td>\n",
       "      <td>4</td>\n",
       "      <td>5.0</td>\n",
       "      <td>0.0</td>\n",
       "      <td>0</td>\n",
       "      <td>16.1</td>\n",
       "    </tr>\n",
       "  </tbody>\n",
       "</table>\n",
       "</div>"
      ],
      "text/plain": [
       "    pick_month  day  hour  Temp.  Precip  snow  Visibility\n",
       "22           1    1     0    5.6     0.0     0        16.1\n",
       "23           1    1     1    5.6     0.0     0        16.1\n",
       "24           1    1     2    5.6     0.0     0        16.1\n",
       "25           1    1     3    5.0     0.0     0        16.1\n",
       "26           1    1     4    5.0     0.0     0        16.1"
      ]
     },
     "execution_count": 14,
     "metadata": {},
     "output_type": "execute_result"
    }
   ],
   "source": [
    "weather.head()"
   ]
  },
  {
   "cell_type": "code",
   "execution_count": 15,
   "metadata": {
    "collapsed": true
   },
   "outputs": [],
   "source": [
    "train = pd.merge(left=train, right=weather, left_on = ['pick_month', 'day', 'hour'], right_on = ['pick_month', 'day', 'hour'], how = 'left')"
   ]
  },
  {
   "cell_type": "markdown",
   "metadata": {},
   "source": [
    "## Cluster"
   ]
  },
  {
   "cell_type": "markdown",
   "metadata": {},
   "source": [
    "Cluster the data by pickup coordinate and dropoff coordinate, we set k as 500 in order to catch the information of street or small region"
   ]
  },
  {
   "cell_type": "code",
   "execution_count": 16,
   "metadata": {
    "collapsed": true
   },
   "outputs": [],
   "source": [
    "from sklearn.cluster import MiniBatchKMeans, KMeans\n",
    "# get lon & lat clustering for following avg location speed calculation\n",
    "def get_clustering(df):\n",
    "    # turn into this form [[lat, lon], [lat, lon], ....]\n",
    "    coords = np.vstack((df[['pickup_latitude', 'pickup_longitude']].values,\n",
    "                        df[['dropoff_latitude', 'dropoff_longitude']].values,\n",
    "                        df[['mid_lat', 'mid_lon']].values))\n",
    "    df_ = df.copy()\n",
    "    kmeans = MiniBatchKMeans(n_clusters=500, batch_size=5000).fit(coords)\n",
    "    df_.loc[:, 'pickup_cluster'] = kmeans.predict(df_[['pickup_latitude', 'pickup_longitude']])\n",
    "    df_.loc[:, 'mid_cluster'] = kmeans.predict(df_[['mid_lat', 'mid_lon']])\n",
    "    df_.loc[:, 'dropoff_cluster'] = kmeans.predict(df_[['dropoff_latitude', 'dropoff_longitude']])\n",
    "    return df_, kmeans"
   ]
  },
  {
   "cell_type": "code",
   "execution_count": 17,
   "metadata": {
    "collapsed": true
   },
   "outputs": [],
   "source": [
    "# Find the mid point\n",
    "train['mid_lat'] = (train.pickup_latitude + train.dropoff_latitude) / 2.\n",
    "train['mid_lon'] = (train.pickup_longitude + train.dropoff_longitude) / 2.\n",
    "\n",
    "# Get the cluster by pickup point, mid point and dropoff point\n",
    "train, kmeans = get_clustering(train)"
   ]
  },
  {
   "cell_type": "markdown",
   "metadata": {},
   "source": [
    "### Pickup and dropoff cluster"
   ]
  },
  {
   "cell_type": "markdown",
   "metadata": {},
   "source": [
    "Find the trip count in each cluster"
   ]
  },
  {
   "cell_type": "code",
   "execution_count": 18,
   "metadata": {
    "collapsed": true
   },
   "outputs": [],
   "source": [
    "pick_cluster_count = train.groupby(['pickup_cluster', 'hour']).agg(['size'])['id'].reset_index()\n",
    "drop_cluster_count = train.groupby(['dropoff_cluster', 'hour']).agg(['size'])['id'].reset_index()\n",
    "pick_cluster_count = pick_cluster_count.rename(columns = {'size':'pick_cluster_count'})\n",
    "drop_cluster_count = drop_cluster_count.rename(columns = {'size':'drop_cluster_count'})\n",
    "train = pd.merge(left=train, right=pick_cluster_count, how='left', left_on=['pickup_cluster', 'hour'], right_on = ['pickup_cluster', 'hour'])\n",
    "train = pd.merge(left=train, right=drop_cluster_count, how='left', left_on=['dropoff_cluster', 'hour'], right_on = ['dropoff_cluster', 'hour'])"
   ]
  },
  {
   "cell_type": "markdown",
   "metadata": {},
   "source": [
    "Find the mean of speed in each cluster and in each hour"
   ]
  },
  {
   "cell_type": "code",
   "execution_count": 19,
   "metadata": {
    "collapsed": true
   },
   "outputs": [],
   "source": [
    "pick_cluster_speed = train.groupby(['pickup_cluster', 'hour']).agg(['mean'])['fast_speed'].reset_index()\n",
    "drop_cluster_speed = train.groupby(['dropoff_cluster', 'hour']).agg(['mean'])['fast_speed'].reset_index()\n",
    "pick_cluster_speed = pick_cluster_speed.rename(columns = {'mean':'pick_cluster_speed'})\n",
    "drop_cluster_speed = drop_cluster_speed.rename(columns = {'mean':'drop_cluster_speed'})\n",
    "train = pd.merge(left=train, right=pick_cluster_speed, how='left', left_on=['pickup_cluster', 'hour'], right_on = ['pickup_cluster', 'hour'])\n",
    "train = pd.merge(left=train, right=drop_cluster_speed, how='left', left_on=['dropoff_cluster', 'hour'], right_on = ['dropoff_cluster', 'hour'])"
   ]
  },
  {
   "cell_type": "markdown",
   "metadata": {},
   "source": [
    "Find the median of Bearing in each cluster and in each hour"
   ]
  },
  {
   "cell_type": "code",
   "execution_count": 20,
   "metadata": {
    "collapsed": true
   },
   "outputs": [],
   "source": [
    "pick_cluster_bearing = train.groupby(['pickup_cluster', 'hour']).agg(['median'])['bearing'].reset_index()\n",
    "drop_cluster_bearing = train.groupby(['dropoff_cluster', 'hour']).agg(['median'])['bearing'].reset_index()\n",
    "pick_cluster_bearing = pick_cluster_bearing.rename(columns = {'median':'pick_cluster_bearing'})\n",
    "drop_cluster_bearing = drop_cluster_bearing.rename(columns = {'median':'drop_cluster_bearing'})\n",
    "train = pd.merge(left=train, right=pick_cluster_bearing, how='left', left_on=['pickup_cluster', 'hour'], right_on = ['pickup_cluster', 'hour'])\n",
    "train = pd.merge(left=train, right=drop_cluster_bearing, how='left', left_on=['dropoff_cluster', 'hour'], right_on = ['dropoff_cluster', 'hour'])"
   ]
  },
  {
   "cell_type": "markdown",
   "metadata": {},
   "source": [
    "Finding the number of steps in each cluster"
   ]
  },
  {
   "cell_type": "code",
   "execution_count": 21,
   "metadata": {
    "collapsed": true
   },
   "outputs": [],
   "source": [
    "pick_cluster_steps = train.groupby(['pickup_cluster']).agg(['mean'])['number_of_steps'].reset_index()\n",
    "drop_cluster_steps = train.groupby(['dropoff_cluster']).agg(['mean'])['number_of_steps'].reset_index()\n",
    "pick_cluster_steps = pick_cluster_steps.rename(columns = {'mean':'pick_cluster_steps'})\n",
    "drop_cluster_steps = drop_cluster_steps.rename(columns = {'mean':'drop_cluster_steps'})\n",
    "train = pd.merge(left=train, right=pick_cluster_steps, how='left', on='pickup_cluster')\n",
    "train = pd.merge(left=train, right=drop_cluster_steps, how='left', on='dropoff_cluster')"
   ]
  },
  {
   "cell_type": "markdown",
   "metadata": {},
   "source": [
    "Trip duration based on pickup and dropoff cluster"
   ]
  },
  {
   "cell_type": "code",
   "execution_count": 22,
   "metadata": {
    "collapsed": true
   },
   "outputs": [],
   "source": [
    "train['total_travel_time'] = np.log(train['total_travel_time']+1)\n",
    "pick_drop_cluster_trip_duration = train.groupby(['pickup_cluster', 'dropoff_cluster', 'hour']).agg(['mean'])['total_travel_time'].reset_index()\n",
    "pick_drop_cluster_trip_duration = pick_drop_cluster_trip_duration.rename(columns = {'mean':'pick_drop_cluster_trip_duration_hour'})\n",
    "train = pd.merge(left=train, right=pick_drop_cluster_trip_duration, how='left', left_on=['pickup_cluster', 'dropoff_cluster', 'hour'], right_on = ['pickup_cluster', 'dropoff_cluster', 'hour'])"
   ]
  },
  {
   "cell_type": "code",
   "execution_count": 23,
   "metadata": {
    "collapsed": true
   },
   "outputs": [],
   "source": [
    "pick_drop_cluster_trip_duration = train.groupby(['pickup_cluster', 'dropoff_cluster', 'day_of_week']).agg(['mean'])['total_travel_time'].reset_index()\n",
    "pick_drop_cluster_trip_duration = pick_drop_cluster_trip_duration.rename(columns = {'mean':'pick_drop_cluster_trip_duration_weekday'})\n",
    "train = pd.merge(left=train, right=pick_drop_cluster_trip_duration, how='left', left_on=['pickup_cluster', 'dropoff_cluster', 'day_of_week'], right_on = ['pickup_cluster', 'dropoff_cluster', 'day_of_week'])"
   ]
  },
  {
   "cell_type": "markdown",
   "metadata": {},
   "source": [
    "Trip distance based on pickup and dropoff cluster"
   ]
  },
  {
   "cell_type": "code",
   "execution_count": 24,
   "metadata": {
    "collapsed": true
   },
   "outputs": [],
   "source": [
    "pick_drop_cluster_trip_distance = train.groupby(['pickup_cluster', 'dropoff_cluster']).agg(['mean'])['total_distance'].reset_index()\n",
    "pick_drop_cluster_trip_distance = pick_drop_cluster_trip_distance.rename(columns = {'mean':'pick_drop_cluster_trip_distance'})\n",
    "train = pd.merge(left=train, right=pick_drop_cluster_trip_distance, how='left', left_on=['pickup_cluster', 'dropoff_cluster'], right_on = ['pickup_cluster', 'dropoff_cluster'])"
   ]
  },
  {
   "cell_type": "markdown",
   "metadata": {},
   "source": [
    "Avg speed based on pickup and dropmoff cluster"
   ]
  },
  {
   "cell_type": "code",
   "execution_count": 25,
   "metadata": {
    "collapsed": true
   },
   "outputs": [],
   "source": [
    "pick_drop_cluster_fast_speed = train.groupby(['pickup_cluster', 'dropoff_cluster', 'hour']).agg(['mean'])['fast_speed'].reset_index()\n",
    "pick_drop_cluster_fast_speed = pick_drop_cluster_fast_speed.rename(columns = {'mean':'pick_drop_cluster_fast_speed_hour'})\n",
    "train = pd.merge(left=train, right=pick_drop_cluster_fast_speed, how='left', left_on=['pickup_cluster', 'dropoff_cluster', 'hour'], right_on = ['pickup_cluster', 'dropoff_cluster', 'hour'])"
   ]
  },
  {
   "cell_type": "code",
   "execution_count": 26,
   "metadata": {
    "collapsed": true
   },
   "outputs": [],
   "source": [
    "pick_drop_cluster_fast_speed = train.groupby(['pickup_cluster', 'dropoff_cluster', 'day_of_week']).agg(['mean'])['fast_speed'].reset_index()\n",
    "pick_drop_cluster_fast_speed = pick_drop_cluster_fast_speed.rename(columns = {'mean':'pick_drop_cluster_fast_speed_weekday'})\n",
    "train = pd.merge(left=train, right=pick_drop_cluster_fast_speed, how='left', left_on=['pickup_cluster', 'dropoff_cluster', 'day_of_week'], right_on = ['pickup_cluster', 'dropoff_cluster', 'day_of_week'])"
   ]
  },
  {
   "cell_type": "markdown",
   "metadata": {},
   "source": [
    "Trip count based on pickup and dropmoff cluster"
   ]
  },
  {
   "cell_type": "code",
   "execution_count": 27,
   "metadata": {
    "collapsed": true
   },
   "outputs": [],
   "source": [
    "pick_drop_cluster_trip_count = train.groupby(['pickup_cluster', 'dropoff_cluster', 'hour']).agg(['count'])['id'].reset_index()\n",
    "pick_drop_cluster_trip_count = pick_drop_cluster_trip_count.rename(columns = {'count':'pick_drop_cluster_trip_count_hour'})\n",
    "train = pd.merge(left=train, right=pick_drop_cluster_trip_count, how='left', left_on=['pickup_cluster', 'dropoff_cluster', 'hour'], right_on = ['pickup_cluster', 'dropoff_cluster', 'hour'])"
   ]
  },
  {
   "cell_type": "code",
   "execution_count": 28,
   "metadata": {
    "collapsed": true
   },
   "outputs": [],
   "source": [
    "pick_drop_cluster_trip_count = train.groupby(['pickup_cluster', 'dropoff_cluster', 'day_of_week']).agg(['count'])['id'].reset_index()\n",
    "pick_drop_cluster_trip_count = pick_drop_cluster_trip_count.rename(columns = {'count':'pick_drop_cluster_trip_count_weekday'})\n",
    "train = pd.merge(left=train, right=pick_drop_cluster_trip_count, how='left', left_on=['pickup_cluster', 'dropoff_cluster', 'day_of_week'], right_on = ['pickup_cluster', 'dropoff_cluster', 'day_of_week'])"
   ]
  },
  {
   "cell_type": "markdown",
   "metadata": {},
   "source": [
    "### Midpoint cluster"
   ]
  },
  {
   "cell_type": "markdown",
   "metadata": {},
   "source": [
    "The mid point is the point between the starting point and the destination"
   ]
  },
  {
   "cell_type": "code",
   "execution_count": 29,
   "metadata": {
    "collapsed": true
   },
   "outputs": [],
   "source": [
    "mid_cluster_count = train.groupby(['mid_cluster', 'hour']).agg(['size'])['id'].reset_index()\n",
    "mid_cluster_count = mid_cluster_count.rename(columns = {'size':'mid_cluster_count'})\n",
    "train = pd.merge(left=train, right=mid_cluster_count, how='left', left_on=['mid_cluster', 'hour'], right_on = ['mid_cluster', 'hour'])"
   ]
  },
  {
   "cell_type": "code",
   "execution_count": 30,
   "metadata": {
    "collapsed": true
   },
   "outputs": [],
   "source": [
    "mid_cluster_speed = train.groupby(['mid_cluster', 'hour']).agg(['mean'])['fast_speed'].reset_index()\n",
    "mid_cluster_speed = mid_cluster_speed.rename(columns = {'mean':'mid_cluster_speed'})\n",
    "train = pd.merge(left=train, right=mid_cluster_speed, how='left', left_on=['mid_cluster', 'hour'], right_on = ['mid_cluster', 'hour'])"
   ]
  },
  {
   "cell_type": "code",
   "execution_count": 31,
   "metadata": {
    "collapsed": true
   },
   "outputs": [],
   "source": [
    "mid_cluster_bearing = train.groupby(['mid_cluster', 'hour']).agg(['median'])['bearing'].reset_index()\n",
    "mid_cluster_bearing = mid_cluster_bearing.rename(columns = {'median':'mid_cluster_bearing'})\n",
    "train = pd.merge(left=train, right=mid_cluster_bearing, how='left', left_on=['mid_cluster', 'hour'], right_on = ['mid_cluster', 'hour'])"
   ]
  },
  {
   "cell_type": "code",
   "execution_count": 32,
   "metadata": {
    "collapsed": true
   },
   "outputs": [],
   "source": [
    "mid_cluster_bearing = train.groupby(['mid_cluster']).agg(['median'])['bearing'].reset_index()\n",
    "mid_cluster_bearing = mid_cluster_bearing.rename(columns = {'median':'mid_cluster_bearing'})\n",
    "train = pd.merge(left=train, right=mid_cluster_bearing, how='left', left_on=['mid_cluster'], right_on = ['mid_cluster'])"
   ]
  },
  {
   "cell_type": "code",
   "execution_count": 33,
   "metadata": {
    "collapsed": true
   },
   "outputs": [],
   "source": [
    "mid_cluster_steps = train.groupby(['mid_cluster']).agg(['mean'])['number_of_steps'].reset_index()\n",
    "mid_cluster_steps = mid_cluster_steps.rename(columns = {'mean':'mid_cluster_steps'})\n",
    "train = pd.merge(left=train, right=mid_cluster_steps, how='left', on='mid_cluster')"
   ]
  },
  {
   "cell_type": "code",
   "execution_count": 34,
   "metadata": {
    "collapsed": true
   },
   "outputs": [],
   "source": [
    "mid_cluster_trip_duration = train.groupby(['mid_cluster', 'hour']).agg(['mean'])['total_travel_time'].reset_index()\n",
    "mid_cluster_trip_duration = mid_cluster_trip_duration.rename(columns = {'mean':'mid_cluster_trip_duration'})\n",
    "train = pd.merge(left=train, right=mid_cluster_trip_duration, how='left', left_on=['mid_cluster', 'hour'], right_on = ['mid_cluster', 'hour'])"
   ]
  },
  {
   "cell_type": "code",
   "execution_count": 35,
   "metadata": {
    "collapsed": true
   },
   "outputs": [],
   "source": [
    "mid_cluster_trip_distance = train.groupby(['mid_cluster']).agg(['mean'])['total_distance'].reset_index()\n",
    "mid_cluster_trip_distance = mid_cluster_trip_distance.rename(columns = {'mean':'mid_cluster_trip_distance'})\n",
    "train = pd.merge(left=train, right=mid_cluster_trip_distance, how='left', on='mid_cluster')"
   ]
  },
  {
   "cell_type": "code",
   "execution_count": 58,
   "metadata": {
    "collapsed": true
   },
   "outputs": [],
   "source": [
    "train['pca_manh'] = abs(train.pickup_pca0 - train.dropoff_pca0) + abs(train.pickup_pca1 - train.dropoff_pca1)\n",
    "train['pca_manh_'] = (train.pickup_pca0 - train.dropoff_pca0) + (train.pickup_pca1 - train.dropoff_pca1)\n",
    "train['manhtn_pick_drop_'] = (train.pickup_latitude - train.dropoff_latitude) + (train.pickup_longitude - train.dropoff_longitude)\n",
    "train['pca_haver'] = haversine_(train.pickup_pca0, train.pickup_pca1, train.dropoff_pca0, train.dropoff_pca1)"
   ]
  },
  {
   "cell_type": "markdown",
   "metadata": {},
   "source": [
    "## is_morning"
   ]
  },
  {
   "cell_type": "code",
   "execution_count": 80,
   "metadata": {
    "collapsed": true
   },
   "outputs": [],
   "source": [
    "train['is_morning'] = 0\n",
    "train.loc[(train.pickup_time<6.5) & (train.pickup_time>5.5), 'is_morning'] = 1"
   ]
  },
  {
   "cell_type": "markdown",
   "metadata": {},
   "source": [
    "## ------------------------------------------------------------------------------------------------------------------------------------"
   ]
  },
  {
   "cell_type": "markdown",
   "metadata": {},
   "source": [
    "# Test"
   ]
  },
  {
   "cell_type": "code",
   "execution_count": 40,
   "metadata": {
    "collapsed": true
   },
   "outputs": [],
   "source": [
    "# Read in processed test data\n",
    "test = pd.read_csv('final_test_2.csv')"
   ]
  },
  {
   "cell_type": "code",
   "execution_count": 41,
   "metadata": {
    "collapsed": true
   },
   "outputs": [],
   "source": [
    "test['pickup_datetime'] = pd.to_datetime(test.pickup_datetime)\n",
    "test.loc[:, 'year'] = test['pickup_datetime'].dt.year\n",
    "test.loc[:, 'day'] = test['pickup_datetime'].dt.day\n",
    "test.loc[:, 'minute'] = test['pickup_datetime'].dt.minute"
   ]
  },
  {
   "cell_type": "code",
   "execution_count": 42,
   "metadata": {
    "collapsed": true
   },
   "outputs": [],
   "source": [
    "# Speed calculated by external data (osrm)\n",
    "test['fast_speed'] = test.total_distance / (test.total_travel_time + 0.1)"
   ]
  },
  {
   "cell_type": "markdown",
   "metadata": {},
   "source": [
    "## Cluster"
   ]
  },
  {
   "cell_type": "code",
   "execution_count": 43,
   "metadata": {
    "collapsed": true
   },
   "outputs": [],
   "source": [
    "# Delete the useless features\n",
    "del test['pick_cluster_count']\n",
    "del test['drop_cluster_count']\n",
    "del test['pick_cluster_speed']\n",
    "del test['drop_cluster_speed']\n",
    "del test['pick_cluster_bearing']\n",
    "del test['drop_cluster_bearing']\n",
    "del test['pickup_cluster']\n",
    "del test['dropoff_cluster']"
   ]
  },
  {
   "cell_type": "code",
   "execution_count": 44,
   "metadata": {
    "collapsed": true
   },
   "outputs": [],
   "source": [
    "# Find the mid point\n",
    "test['mid_lat'] = (test.pickup_latitude + test.dropoff_latitude) / 2.\n",
    "test['mid_lon'] = (test.pickup_longitude + test.dropoff_longitude) / 2.\n",
    "\n",
    "# Get the cluster by pickup point, mid point and dropoff point\n",
    "test, kmeans = get_clustering(test)"
   ]
  },
  {
   "cell_type": "markdown",
   "metadata": {},
   "source": [
    "### Pickup and dropoff cluster"
   ]
  },
  {
   "cell_type": "markdown",
   "metadata": {},
   "source": [
    "Engineer the new features like we did in train data"
   ]
  },
  {
   "cell_type": "code",
   "execution_count": 45,
   "metadata": {
    "collapsed": true
   },
   "outputs": [],
   "source": [
    "pick_cluster_count = test.groupby(['pickup_cluster', 'hour']).agg(['size'])['id'].reset_index()\n",
    "drop_cluster_count = test.groupby(['dropoff_cluster', 'hour']).agg(['size'])['id'].reset_index()\n",
    "pick_cluster_count = pick_cluster_count.rename(columns = {'size':'pick_cluster_count'})\n",
    "drop_cluster_count = drop_cluster_count.rename(columns = {'size':'drop_cluster_count'})\n",
    "test = pd.merge(left=test, right=pick_cluster_count, left_on=['pickup_cluster', 'hour'], right_on = ['pickup_cluster', 'hour'])\n",
    "test = pd.merge(left=test, right=drop_cluster_count, left_on=['dropoff_cluster', 'hour'], right_on = ['dropoff_cluster', 'hour'])\n",
    "\n",
    "pick_cluster_bearing = test.groupby(['pickup_cluster', 'hour']).agg(['median'])['bearing'].reset_index()\n",
    "drop_cluster_bearing = test.groupby(['dropoff_cluster', 'hour']).agg(['median'])['bearing'].reset_index()\n",
    "pick_cluster_bearing = pick_cluster_bearing.rename(columns = {'median':'pick_cluster_bearing'})\n",
    "drop_cluster_bearing = drop_cluster_bearing.rename(columns = {'median':'drop_cluster_bearing'})\n",
    "test = pd.merge(left=test, right=pick_cluster_bearing, how='left', left_on=['pickup_cluster', 'hour'], right_on = ['pickup_cluster', 'hour'])\n",
    "test = pd.merge(left=test, right=drop_cluster_bearing, how='left', left_on=['dropoff_cluster', 'hour'], right_on = ['dropoff_cluster', 'hour'])\n",
    "\n",
    "pick_cluster_speed = test.groupby(['pickup_cluster', 'hour']).agg(['mean'])['fast_speed'].reset_index()\n",
    "drop_cluster_speed = test.groupby(['dropoff_cluster', 'hour']).agg(['mean'])['fast_speed'].reset_index()\n",
    "pick_cluster_speed = pick_cluster_speed.rename(columns = {'mean':'pick_cluster_speed'})\n",
    "drop_cluster_speed = drop_cluster_speed.rename(columns = {'mean':'drop_cluster_speed'})\n",
    "test = pd.merge(left=test, right=pick_cluster_speed, how='left', left_on=['pickup_cluster', 'hour'], right_on = ['pickup_cluster', 'hour'])\n",
    "test = pd.merge(left=test, right=drop_cluster_speed, how='left', left_on=['dropoff_cluster', 'hour'], right_on = ['dropoff_cluster', 'hour'])\n",
    "\n",
    "pick_cluster_steps = test.groupby(['pickup_cluster']).agg(['mean'])['number_of_steps'].reset_index()\n",
    "drop_cluster_steps = test.groupby(['dropoff_cluster']).agg(['mean'])['number_of_steps'].reset_index()\n",
    "pick_cluster_steps = pick_cluster_steps.rename(columns = {'mean':'pick_cluster_steps'})\n",
    "drop_cluster_steps = drop_cluster_steps.rename(columns = {'mean':'drop_cluster_steps'})\n",
    "test = pd.merge(left=test, right=pick_cluster_steps, how='left', on='pickup_cluster')\n",
    "test = pd.merge(left=test, right=drop_cluster_steps, how='left', on='dropoff_cluster')\n",
    "\n",
    "\n",
    "test['total_travel_time'] = np.log(test['total_travel_time']+1)\n",
    "pick_drop_cluster_trip_duration = test.groupby(['pickup_cluster', 'dropoff_cluster', 'hour']).agg(['mean'])['total_travel_time'].reset_index()\n",
    "pick_drop_cluster_trip_duration = pick_drop_cluster_trip_duration.rename(columns = {'mean':'pick_drop_cluster_trip_duration_hour'})\n",
    "test = pd.merge(left=test, right=pick_drop_cluster_trip_duration, how='left', left_on=['pickup_cluster', 'dropoff_cluster', 'hour'], right_on = ['pickup_cluster', 'dropoff_cluster', 'hour'])\n",
    "\n",
    "pick_drop_cluster_trip_duration = test.groupby(['pickup_cluster', 'dropoff_cluster', 'day_of_week']).agg(['mean'])['total_travel_time'].reset_index()\n",
    "pick_drop_cluster_trip_duration = pick_drop_cluster_trip_duration.rename(columns = {'mean':'pick_drop_cluster_trip_duration_weekday'})\n",
    "test = pd.merge(left=test, right=pick_drop_cluster_trip_duration, how='left', left_on=['pickup_cluster', 'dropoff_cluster', 'day_of_week'], right_on = ['pickup_cluster', 'dropoff_cluster', 'day_of_week'])\n",
    "\n",
    "\n",
    "pick_drop_cluster_trip_distance = test.groupby(['pickup_cluster', 'dropoff_cluster']).agg(['mean'])['total_distance'].reset_index()\n",
    "pick_drop_cluster_trip_distance = pick_drop_cluster_trip_distance.rename(columns = {'mean':'pick_drop_cluster_trip_distance'})\n",
    "test = pd.merge(left=test, right=pick_drop_cluster_trip_distance, how='left', left_on=['pickup_cluster', 'dropoff_cluster'], right_on = ['pickup_cluster', 'dropoff_cluster'])\n",
    "\n",
    "\n",
    "pick_drop_cluster_fast_speed = test.groupby(['pickup_cluster', 'dropoff_cluster', 'hour']).agg(['mean'])['fast_speed'].reset_index()\n",
    "pick_drop_cluster_fast_speed = pick_drop_cluster_fast_speed.rename(columns = {'mean':'pick_drop_cluster_fast_speed_hour'})\n",
    "test = pd.merge(left=test, right=pick_drop_cluster_fast_speed, how='left', left_on=['pickup_cluster', 'dropoff_cluster', 'hour'], right_on = ['pickup_cluster', 'dropoff_cluster', 'hour'])\n",
    "\n",
    "pick_drop_cluster_fast_speed = test.groupby(['pickup_cluster', 'dropoff_cluster', 'day_of_week']).agg(['mean'])['fast_speed'].reset_index()\n",
    "pick_drop_cluster_fast_speed = pick_drop_cluster_fast_speed.rename(columns = {'mean':'pick_drop_cluster_fast_speed_weekday'})\n",
    "test = pd.merge(left=test, right=pick_drop_cluster_fast_speed, how='left', left_on=['pickup_cluster', 'dropoff_cluster', 'day_of_week'], right_on = ['pickup_cluster', 'dropoff_cluster', 'day_of_week'])\n",
    "\n",
    "\n",
    "pick_drop_cluster_trip_count = test.groupby(['pickup_cluster', 'dropoff_cluster', 'hour']).agg(['count'])['id'].reset_index()\n",
    "pick_drop_cluster_trip_count = pick_drop_cluster_trip_count.rename(columns = {'count':'pick_drop_cluster_trip_count_hour'})\n",
    "test = pd.merge(left=test, right=pick_drop_cluster_trip_count, how='left', left_on=['pickup_cluster', 'dropoff_cluster', 'hour'], right_on = ['pickup_cluster', 'dropoff_cluster', 'hour'])\n",
    "\n",
    "pick_drop_cluster_trip_count = test.groupby(['pickup_cluster', 'dropoff_cluster', 'day_of_week']).agg(['count'])['id'].reset_index()\n",
    "pick_drop_cluster_trip_count = pick_drop_cluster_trip_count.rename(columns = {'count':'pick_drop_cluster_trip_count_weekday'})\n",
    "test = pd.merge(left=test, right=pick_drop_cluster_trip_count, how='left', left_on=['pickup_cluster', 'dropoff_cluster', 'day_of_week'], right_on = ['pickup_cluster', 'dropoff_cluster', 'day_of_week'])"
   ]
  },
  {
   "cell_type": "markdown",
   "metadata": {},
   "source": [
    "### Mid point cluster"
   ]
  },
  {
   "cell_type": "code",
   "execution_count": 46,
   "metadata": {
    "collapsed": true
   },
   "outputs": [],
   "source": [
    "mid_cluster_count = test.groupby(['mid_cluster', 'hour']).agg(['size'])['id'].reset_index()\n",
    "mid_cluster_count = mid_cluster_count.rename(columns = {'size':'mid_cluster_count'})\n",
    "test = pd.merge(left=test, right=mid_cluster_count, how='left', left_on=['mid_cluster', 'hour'], right_on = ['mid_cluster', 'hour'])\n",
    "\n",
    "mid_cluster_speed = test.groupby(['mid_cluster', 'hour']).agg(['mean'])['fast_speed'].reset_index()\n",
    "mid_cluster_speed = mid_cluster_speed.rename(columns = {'mean':'mid_cluster_speed'})\n",
    "test = pd.merge(left=test, right=mid_cluster_speed, how='left', left_on=['mid_cluster', 'hour'], right_on = ['mid_cluster', 'hour'])\n",
    "\n",
    "mid_cluster_bearing = test.groupby(['mid_cluster', 'hour']).agg(['median'])['bearing'].reset_index()\n",
    "mid_cluster_bearing = mid_cluster_bearing.rename(columns = {'median':'mid_cluster_bearing'})\n",
    "test = pd.merge(left=test, right=mid_cluster_bearing, how='left', left_on=['mid_cluster', 'hour'], right_on = ['mid_cluster', 'hour'])\n",
    "\n",
    "mid_cluster_steps = test.groupby(['mid_cluster']).agg(['mean'])['number_of_steps'].reset_index()\n",
    "mid_cluster_steps = mid_cluster_steps.rename(columns = {'mean':'mid_cluster_steps'})\n",
    "test = pd.merge(left=test, right=mid_cluster_steps, how='left', on='mid_cluster')\n",
    "\n",
    "mid_cluster_trip_duration = test.groupby(['mid_cluster', 'hour']).agg(['mean'])['total_travel_time'].reset_index()\n",
    "mid_cluster_trip_duration = mid_cluster_trip_duration.rename(columns = {'mean':'mid_cluster_trip_duration'})\n",
    "test = pd.merge(left=test, right=mid_cluster_trip_duration, how='left', left_on=['mid_cluster', 'hour'], right_on = ['mid_cluster', 'hour'])\n",
    "\n",
    "mid_cluster_trip_distance = test.groupby(['mid_cluster']).agg(['mean'])['total_distance'].reset_index()\n",
    "mid_cluster_trip_distance = mid_cluster_trip_distance.rename(columns = {'mean':'mid_cluster_trip_distance'})\n",
    "test = pd.merge(left=test, right=mid_cluster_trip_distance, how='left', on='mid_cluster')"
   ]
  },
  {
   "cell_type": "code",
   "execution_count": 59,
   "metadata": {
    "collapsed": true
   },
   "outputs": [],
   "source": [
    "test['pca_manh'] = abs(test.pickup_pca0 - test.dropoff_pca0) + abs(test.pickup_pca1 - test.dropoff_pca1)\n",
    "test['pca_manh_'] = (test.pickup_pca0 - test.dropoff_pca0) + (test.pickup_pca1 - test.dropoff_pca1)\n",
    "test['manhtn_pick_drop_'] = (test.pickup_latitude - test.dropoff_latitude) + (test.pickup_longitude - test.dropoff_longitude)\n",
    "test['pca_haver'] = haversine_(test.pickup_pca0, test.pickup_pca1, test.dropoff_pca0, test.dropoff_pca1)"
   ]
  },
  {
   "cell_type": "markdown",
   "metadata": {},
   "source": [
    "## Shortest path and time"
   ]
  },
  {
   "cell_type": "code",
   "execution_count": 47,
   "metadata": {
    "collapsed": true
   },
   "outputs": [],
   "source": [
    "osrm_test = pd.read_csv('C:/Users/a1381/Desktop/UIUC/Python/Project/Taxi/new-york-city-taxi-with-osrm/fastest_routes_test.csv')"
   ]
  },
  {
   "cell_type": "code",
   "execution_count": 48,
   "metadata": {
    "collapsed": true
   },
   "outputs": [],
   "source": [
    "test = pd.merge(test, osrm_test[['id', 'step_direction']], how='left', on='id')\n",
    "test['right_count'] = test['step_direction'].str.count('right')\n",
    "test['left_count'] = test['step_direction'].str.count('left')\n",
    "del test['step_direction']"
   ]
  },
  {
   "cell_type": "markdown",
   "metadata": {},
   "source": [
    "## Holiday / Weekend / Pickup_time"
   ]
  },
  {
   "cell_type": "code",
   "execution_count": 49,
   "metadata": {},
   "outputs": [
    {
     "data": {
      "text/html": [
       "<div>\n",
       "<style>\n",
       "    .dataframe thead tr:only-child th {\n",
       "        text-align: right;\n",
       "    }\n",
       "\n",
       "    .dataframe thead th {\n",
       "        text-align: left;\n",
       "    }\n",
       "\n",
       "    .dataframe tbody tr th {\n",
       "        vertical-align: top;\n",
       "    }\n",
       "</style>\n",
       "<table border=\"1\" class=\"dataframe\">\n",
       "  <thead>\n",
       "    <tr style=\"text-align: right;\">\n",
       "      <th></th>\n",
       "      <th>Day</th>\n",
       "      <th>Date</th>\n",
       "      <th>Holiday</th>\n",
       "      <th>pick_month</th>\n",
       "      <th>day</th>\n",
       "      <th>is_holiday</th>\n",
       "    </tr>\n",
       "  </thead>\n",
       "  <tbody>\n",
       "    <tr>\n",
       "      <th>0</th>\n",
       "      <td>Friday</td>\n",
       "      <td>2016-01-01</td>\n",
       "      <td>New Years Day</td>\n",
       "      <td>1</td>\n",
       "      <td>1</td>\n",
       "      <td>1</td>\n",
       "    </tr>\n",
       "    <tr>\n",
       "      <th>1</th>\n",
       "      <td>Monday</td>\n",
       "      <td>2016-01-18</td>\n",
       "      <td>Martin Luther King Jr. Day</td>\n",
       "      <td>1</td>\n",
       "      <td>18</td>\n",
       "      <td>1</td>\n",
       "    </tr>\n",
       "    <tr>\n",
       "      <th>2</th>\n",
       "      <td>Friday</td>\n",
       "      <td>2016-02-12</td>\n",
       "      <td>Lincoln's Birthday</td>\n",
       "      <td>2</td>\n",
       "      <td>12</td>\n",
       "      <td>1</td>\n",
       "    </tr>\n",
       "    <tr>\n",
       "      <th>3</th>\n",
       "      <td>Monday</td>\n",
       "      <td>2016-02-15</td>\n",
       "      <td>Presidents' Day</td>\n",
       "      <td>2</td>\n",
       "      <td>15</td>\n",
       "      <td>1</td>\n",
       "    </tr>\n",
       "    <tr>\n",
       "      <th>4</th>\n",
       "      <td>Sunday</td>\n",
       "      <td>2016-05-08</td>\n",
       "      <td>Mother's Day</td>\n",
       "      <td>5</td>\n",
       "      <td>8</td>\n",
       "      <td>1</td>\n",
       "    </tr>\n",
       "  </tbody>\n",
       "</table>\n",
       "</div>"
      ],
      "text/plain": [
       "      Day       Date                     Holiday  pick_month  day  is_holiday\n",
       "0  Friday 2016-01-01               New Years Day           1    1           1\n",
       "1  Monday 2016-01-18  Martin Luther King Jr. Day           1   18           1\n",
       "2  Friday 2016-02-12          Lincoln's Birthday           2   12           1\n",
       "3  Monday 2016-02-15             Presidents' Day           2   15           1\n",
       "4  Sunday 2016-05-08                Mother's Day           5    8           1"
      ]
     },
     "execution_count": 49,
     "metadata": {},
     "output_type": "execute_result"
    }
   ],
   "source": [
    "holiday.head()"
   ]
  },
  {
   "cell_type": "code",
   "execution_count": 50,
   "metadata": {},
   "outputs": [
    {
     "data": {
      "text/plain": [
       "0.0    603252\n",
       "1.0     21882\n",
       "Name: is_holiday, dtype: int64"
      ]
     },
     "execution_count": 50,
     "metadata": {},
     "output_type": "execute_result"
    }
   ],
   "source": [
    "test = pd.merge(test, holiday[['pick_month', 'day', 'is_holiday']], how='left', on=['pick_month', 'day'])\n",
    "test['is_holiday'][test['is_holiday'].isnull()] = 0\n",
    "test.is_holiday.value_counts()"
   ]
  },
  {
   "cell_type": "code",
   "execution_count": 51,
   "metadata": {},
   "outputs": [
    {
     "data": {
      "text/plain": [
       "0    447314\n",
       "1    177820\n",
       "Name: is_weekend, dtype: int64"
      ]
     },
     "execution_count": 51,
     "metadata": {},
     "output_type": "execute_result"
    }
   ],
   "source": [
    "weekend_index = test[(test.day_of_week == 5) | (test.day_of_week == 6)].index\n",
    "test['is_weekend'] = 0\n",
    "test.ix[weekend_index, 'is_weekend'] = 1\n",
    "test.is_weekend.value_counts()"
   ]
  },
  {
   "cell_type": "code",
   "execution_count": 52,
   "metadata": {
    "collapsed": true
   },
   "outputs": [],
   "source": [
    "test['pickup_time'] = test.hour + test.minute/60"
   ]
  },
  {
   "cell_type": "markdown",
   "metadata": {},
   "source": [
    "## Weather"
   ]
  },
  {
   "cell_type": "code",
   "execution_count": 53,
   "metadata": {
    "collapsed": true
   },
   "outputs": [],
   "source": [
    "test = pd.merge(test, weather, on = ['pick_month', 'day', 'hour'], how = 'left')"
   ]
  },
  {
   "cell_type": "markdown",
   "metadata": {},
   "source": [
    "## store_and_fwd_flag"
   ]
  },
  {
   "cell_type": "code",
   "execution_count": 54,
   "metadata": {
    "collapsed": true
   },
   "outputs": [],
   "source": [
    "test['store_and_fwd_flag'] = 1*(test.store_and_fwd_flag == 'Y')"
   ]
  },
  {
   "cell_type": "markdown",
   "metadata": {},
   "source": [
    "## is_morning"
   ]
  },
  {
   "cell_type": "code",
   "execution_count": 85,
   "metadata": {
    "collapsed": true
   },
   "outputs": [],
   "source": [
    "test['is_morning'] = 0\n",
    "test.loc[(test.pickup_time<6.5) & (test.pickup_time>5.5), 'is_morning'] = 1"
   ]
  },
  {
   "cell_type": "markdown",
   "metadata": {},
   "source": [
    "## ------------------------------------------------------------------------------------------------------------------------------------"
   ]
  },
  {
   "cell_type": "markdown",
   "metadata": {},
   "source": [
    "# Train the model"
   ]
  },
  {
   "cell_type": "markdown",
   "metadata": {},
   "source": [
    "Select columns"
   ]
  },
  {
   "cell_type": "code",
   "execution_count": 96,
   "metadata": {
    "collapsed": true
   },
   "outputs": [],
   "source": [
    "cols = ['pickup_longitude', 'pickup_latitude',\n",
    "       'dropoff_longitude', 'dropoff_latitude',\n",
    "       'trip_duration', 'total_distance', 'total_travel_time',\n",
    "       'number_of_steps', 'hour', 'week_of_year', 'day_of_year',\n",
    "       'day_of_week', 'year', 'day', 'minute', 'hvsine_pick_drop',\n",
    "       'manhtn_pick_drop', 'sin_hour', 'cos_hour',\n",
    "       'pickup_pca0', 'pickup_pca1', 'dropoff_pca0', 'dropoff_pca1',\n",
    "       'fast_speed', 'turn_count', 'pickup_time',\n",
    "       'right_count', 'left_count', 'Temp.',\n",
    "       'mid_lat', 'mid_lon', 'pickup_cluster', 'mid_cluster',\n",
    "       'dropoff_cluster', 'pick_cluster_count', 'drop_cluster_count',\n",
    "       'pick_cluster_speed', 'drop_cluster_speed', 'pick_cluster_bearing',\n",
    "       'drop_cluster_bearing', 'pick_cluster_steps', 'drop_cluster_steps',\n",
    "       'pick_drop_cluster_trip_duration_hour',\n",
    "       'pick_drop_cluster_trip_distance', 'pick_drop_cluster_fast_speed_hour',\n",
    "       'pick_drop_cluster_trip_count_hour', 'mid_cluster_count',\n",
    "       'mid_cluster_speed', 'mid_cluster_steps',\n",
    "       'mid_cluster_trip_duration', 'mid_cluster_trip_distance', 'pca_manh', \n",
    "        'pca_manh_', 'bearing','pca_haver', 'manhtn_pick_drop_', 'is_morning']"
   ]
  },
  {
   "cell_type": "code",
   "execution_count": 97,
   "metadata": {
    "collapsed": true
   },
   "outputs": [],
   "source": [
    "test_cols = ['pickup_longitude', 'pickup_latitude',\n",
    "       'dropoff_longitude', 'dropoff_latitude',\n",
    "       'total_distance', 'total_travel_time',\n",
    "       'number_of_steps', 'hour', 'week_of_year', 'day_of_year',\n",
    "       'day_of_week', 'year', 'day', 'minute', 'hvsine_pick_drop',\n",
    "       'manhtn_pick_drop', 'sin_hour', 'cos_hour',\n",
    "       'pickup_pca0', 'pickup_pca1', 'dropoff_pca0', 'dropoff_pca1',\n",
    "       'fast_speed', 'turn_count', 'pickup_time',\n",
    "       'right_count', 'left_count', 'Temp.',\n",
    "       'mid_lat', 'mid_lon', 'pickup_cluster', 'mid_cluster',\n",
    "       'dropoff_cluster', 'pick_cluster_count', 'drop_cluster_count',\n",
    "       'pick_cluster_speed', 'drop_cluster_speed', 'pick_cluster_bearing',\n",
    "       'drop_cluster_bearing', 'pick_cluster_steps', 'drop_cluster_steps',\n",
    "       'pick_drop_cluster_trip_duration_hour',\n",
    "       'pick_drop_cluster_trip_distance', 'pick_drop_cluster_fast_speed_hour',\n",
    "       'pick_drop_cluster_trip_count_hour', 'mid_cluster_count',\n",
    "       'mid_cluster_speed', 'mid_cluster_steps',\n",
    "       'mid_cluster_trip_duration', 'mid_cluster_trip_distance', 'pca_manh', \n",
    "             'pca_manh_', 'bearing','pca_haver', 'manhtn_pick_drop_', 'is_morning']"
   ]
  },
  {
   "cell_type": "code",
   "execution_count": 99,
   "metadata": {
    "collapsed": true
   },
   "outputs": [],
   "source": [
    "trainn = train.sample(150000, random_state=2)"
   ]
  },
  {
   "cell_type": "code",
   "execution_count": 100,
   "metadata": {},
   "outputs": [
    {
     "name": "stdout",
     "output_type": "stream",
     "text": [
      "[0]\ttrain-rmse:5.72062\tvalid-rmse:5.71757\n",
      "Multiple eval metrics have been passed: 'valid-rmse' will be used for early stopping.\n",
      "\n",
      "Will train until valid-rmse hasn't improved in 30 rounds.\n",
      "[1]\ttrain-rmse:5.43662\tvalid-rmse:5.43342\n",
      "[2]\ttrain-rmse:5.16693\tvalid-rmse:5.1635\n",
      "[3]\ttrain-rmse:4.91074\tvalid-rmse:4.90715\n",
      "[4]\ttrain-rmse:4.66747\tvalid-rmse:4.66377\n",
      "[5]\ttrain-rmse:4.43651\tvalid-rmse:4.43278\n",
      "[6]\ttrain-rmse:4.21715\tvalid-rmse:4.21313\n",
      "[7]\ttrain-rmse:4.00883\tvalid-rmse:4.00472\n",
      "[8]\ttrain-rmse:3.81098\tvalid-rmse:3.80686\n",
      "[9]\ttrain-rmse:3.62318\tvalid-rmse:3.61884\n",
      "[10]\ttrain-rmse:3.44491\tvalid-rmse:3.44049\n",
      "[11]\ttrain-rmse:3.27556\tvalid-rmse:3.27108\n",
      "[12]\ttrain-rmse:3.11485\tvalid-rmse:3.11026\n",
      "[13]\ttrain-rmse:2.96228\tvalid-rmse:2.95776\n",
      "[14]\ttrain-rmse:2.81749\tvalid-rmse:2.81291\n",
      "[15]\ttrain-rmse:2.68009\tvalid-rmse:2.67539\n",
      "[16]\ttrain-rmse:2.54961\tvalid-rmse:2.54477\n",
      "[17]\ttrain-rmse:2.42584\tvalid-rmse:2.42096\n",
      "[18]\ttrain-rmse:2.30838\tvalid-rmse:2.3034\n",
      "[19]\ttrain-rmse:2.19695\tvalid-rmse:2.19202\n",
      "[20]\ttrain-rmse:2.09124\tvalid-rmse:2.08632\n",
      "[21]\ttrain-rmse:1.99094\tvalid-rmse:1.98597\n",
      "[22]\ttrain-rmse:1.8959\tvalid-rmse:1.89101\n",
      "[23]\ttrain-rmse:1.80572\tvalid-rmse:1.80084\n",
      "[24]\ttrain-rmse:1.72021\tvalid-rmse:1.71547\n",
      "[25]\ttrain-rmse:1.63917\tvalid-rmse:1.63453\n",
      "[26]\ttrain-rmse:1.56234\tvalid-rmse:1.55794\n",
      "[27]\ttrain-rmse:1.48954\tvalid-rmse:1.48519\n",
      "[28]\ttrain-rmse:1.42066\tvalid-rmse:1.41648\n",
      "[29]\ttrain-rmse:1.35538\tvalid-rmse:1.35136\n",
      "[30]\ttrain-rmse:1.29352\tvalid-rmse:1.28977\n",
      "[31]\ttrain-rmse:1.23497\tvalid-rmse:1.2315\n",
      "[32]\ttrain-rmse:1.17952\tvalid-rmse:1.1763\n",
      "[33]\ttrain-rmse:1.12712\tvalid-rmse:1.12422\n",
      "[34]\ttrain-rmse:1.07757\tvalid-rmse:1.07512\n",
      "[35]\ttrain-rmse:1.03076\tvalid-rmse:1.02879\n",
      "[36]\ttrain-rmse:0.986436\tvalid-rmse:0.984916\n",
      "[37]\ttrain-rmse:0.944605\tvalid-rmse:0.943531\n",
      "[38]\ttrain-rmse:0.905111\tvalid-rmse:0.904509\n",
      "[39]\ttrain-rmse:0.867763\tvalid-rmse:0.867903\n",
      "[40]\ttrain-rmse:0.832491\tvalid-rmse:0.833378\n",
      "[41]\ttrain-rmse:0.799208\tvalid-rmse:0.800884\n",
      "[42]\ttrain-rmse:0.767947\tvalid-rmse:0.770445\n",
      "[43]\ttrain-rmse:0.738409\tvalid-rmse:0.741687\n",
      "[44]\ttrain-rmse:0.71055\tvalid-rmse:0.714912\n",
      "[45]\ttrain-rmse:0.684345\tvalid-rmse:0.689592\n",
      "[46]\ttrain-rmse:0.659666\tvalid-rmse:0.666002\n",
      "[47]\ttrain-rmse:0.636582\tvalid-rmse:0.64395\n",
      "[48]\ttrain-rmse:0.614853\tvalid-rmse:0.623372\n",
      "[49]\ttrain-rmse:0.594373\tvalid-rmse:0.604206\n",
      "[50]\ttrain-rmse:0.575113\tvalid-rmse:0.586327\n",
      "[51]\ttrain-rmse:0.557172\tvalid-rmse:0.569617\n",
      "[52]\ttrain-rmse:0.540106\tvalid-rmse:0.554047\n",
      "[53]\ttrain-rmse:0.524291\tvalid-rmse:0.53957\n",
      "[54]\ttrain-rmse:0.509429\tvalid-rmse:0.526191\n",
      "[55]\ttrain-rmse:0.495443\tvalid-rmse:0.513665\n",
      "[56]\ttrain-rmse:0.482478\tvalid-rmse:0.502112\n",
      "[57]\ttrain-rmse:0.470339\tvalid-rmse:0.491449\n",
      "[58]\ttrain-rmse:0.458899\tvalid-rmse:0.481535\n",
      "[59]\ttrain-rmse:0.448245\tvalid-rmse:0.472529\n",
      "[60]\ttrain-rmse:0.438335\tvalid-rmse:0.464152\n",
      "[61]\ttrain-rmse:0.429235\tvalid-rmse:0.456448\n",
      "[62]\ttrain-rmse:0.420736\tvalid-rmse:0.44939\n",
      "[63]\ttrain-rmse:0.412481\tvalid-rmse:0.44278\n",
      "[64]\ttrain-rmse:0.404926\tvalid-rmse:0.436843\n",
      "[65]\ttrain-rmse:0.39795\tvalid-rmse:0.431423\n",
      "[66]\ttrain-rmse:0.391424\tvalid-rmse:0.426318\n",
      "[67]\ttrain-rmse:0.385438\tvalid-rmse:0.421491\n",
      "[68]\ttrain-rmse:0.379642\tvalid-rmse:0.417066\n",
      "[69]\ttrain-rmse:0.374405\tvalid-rmse:0.413289\n",
      "[70]\ttrain-rmse:0.369432\tvalid-rmse:0.40972\n",
      "[71]\ttrain-rmse:0.364698\tvalid-rmse:0.406445\n",
      "[72]\ttrain-rmse:0.360329\tvalid-rmse:0.40335\n",
      "[73]\ttrain-rmse:0.356381\tvalid-rmse:0.400644\n",
      "[74]\ttrain-rmse:0.352898\tvalid-rmse:0.398134\n",
      "[75]\ttrain-rmse:0.349221\tvalid-rmse:0.395888\n",
      "[76]\ttrain-rmse:0.345991\tvalid-rmse:0.393597\n",
      "[77]\ttrain-rmse:0.342748\tvalid-rmse:0.39185\n",
      "[78]\ttrain-rmse:0.339803\tvalid-rmse:0.389935\n",
      "[79]\ttrain-rmse:0.337179\tvalid-rmse:0.388393\n",
      "[80]\ttrain-rmse:0.334722\tvalid-rmse:0.387046\n",
      "[81]\ttrain-rmse:0.332431\tvalid-rmse:0.385723\n",
      "[82]\ttrain-rmse:0.330298\tvalid-rmse:0.384592\n",
      "[83]\ttrain-rmse:0.327982\tvalid-rmse:0.383233\n",
      "[84]\ttrain-rmse:0.326043\tvalid-rmse:0.382209\n",
      "[85]\ttrain-rmse:0.324351\tvalid-rmse:0.381194\n",
      "[86]\ttrain-rmse:0.322798\tvalid-rmse:0.38047\n",
      "[87]\ttrain-rmse:0.32123\tvalid-rmse:0.379793\n",
      "[88]\ttrain-rmse:0.319531\tvalid-rmse:0.379092\n",
      "[89]\ttrain-rmse:0.318094\tvalid-rmse:0.378283\n",
      "[90]\ttrain-rmse:0.316728\tvalid-rmse:0.377551\n",
      "[91]\ttrain-rmse:0.3153\tvalid-rmse:0.37692\n",
      "[92]\ttrain-rmse:0.31411\tvalid-rmse:0.376394\n",
      "[93]\ttrain-rmse:0.312705\tvalid-rmse:0.376016\n",
      "[94]\ttrain-rmse:0.311534\tvalid-rmse:0.375592\n",
      "[95]\ttrain-rmse:0.310725\tvalid-rmse:0.375207\n",
      "[96]\ttrain-rmse:0.309737\tvalid-rmse:0.37495\n",
      "[97]\ttrain-rmse:0.308559\tvalid-rmse:0.374573\n",
      "[98]\ttrain-rmse:0.307508\tvalid-rmse:0.374283\n",
      "[99]\ttrain-rmse:0.306377\tvalid-rmse:0.373975\n",
      "[100]\ttrain-rmse:0.305618\tvalid-rmse:0.373688\n",
      "[101]\ttrain-rmse:0.304974\tvalid-rmse:0.373457\n",
      "[102]\ttrain-rmse:0.304422\tvalid-rmse:0.373335\n",
      "[103]\ttrain-rmse:0.303714\tvalid-rmse:0.373015\n",
      "[104]\ttrain-rmse:0.302914\tvalid-rmse:0.372909\n",
      "[105]\ttrain-rmse:0.302316\tvalid-rmse:0.372837\n",
      "[106]\ttrain-rmse:0.301681\tvalid-rmse:0.372775\n",
      "[107]\ttrain-rmse:0.301251\tvalid-rmse:0.372583\n",
      "[108]\ttrain-rmse:0.300287\tvalid-rmse:0.372427\n",
      "[109]\ttrain-rmse:0.299962\tvalid-rmse:0.372141\n",
      "[110]\ttrain-rmse:0.299418\tvalid-rmse:0.372147\n",
      "[111]\ttrain-rmse:0.298791\tvalid-rmse:0.372148\n",
      "[112]\ttrain-rmse:0.298285\tvalid-rmse:0.371987\n",
      "[113]\ttrain-rmse:0.297278\tvalid-rmse:0.371776\n",
      "[114]\ttrain-rmse:0.296655\tvalid-rmse:0.371685\n",
      "[115]\ttrain-rmse:0.296439\tvalid-rmse:0.371616\n",
      "[116]\ttrain-rmse:0.296136\tvalid-rmse:0.371531\n",
      "[117]\ttrain-rmse:0.295661\tvalid-rmse:0.371459\n",
      "[118]\ttrain-rmse:0.2947\tvalid-rmse:0.371332\n",
      "[119]\ttrain-rmse:0.294316\tvalid-rmse:0.37121\n",
      "[120]\ttrain-rmse:0.293977\tvalid-rmse:0.371097\n",
      "[121]\ttrain-rmse:0.293576\tvalid-rmse:0.371132\n",
      "[122]\ttrain-rmse:0.293161\tvalid-rmse:0.371025\n",
      "[123]\ttrain-rmse:0.29291\tvalid-rmse:0.371007\n",
      "[124]\ttrain-rmse:0.292472\tvalid-rmse:0.370975\n",
      "[125]\ttrain-rmse:0.291803\tvalid-rmse:0.370867\n",
      "[126]\ttrain-rmse:0.291486\tvalid-rmse:0.370837\n",
      "[127]\ttrain-rmse:0.291215\tvalid-rmse:0.370734\n",
      "[128]\ttrain-rmse:0.291014\tvalid-rmse:0.370684\n",
      "[129]\ttrain-rmse:0.290356\tvalid-rmse:0.370581\n",
      "[130]\ttrain-rmse:0.290186\tvalid-rmse:0.370531\n",
      "[131]\ttrain-rmse:0.289942\tvalid-rmse:0.370476\n",
      "[132]\ttrain-rmse:0.289552\tvalid-rmse:0.37034\n",
      "[133]\ttrain-rmse:0.289059\tvalid-rmse:0.370394\n",
      "[134]\ttrain-rmse:0.28856\tvalid-rmse:0.37035\n",
      "[135]\ttrain-rmse:0.287936\tvalid-rmse:0.37029\n",
      "[136]\ttrain-rmse:0.287501\tvalid-rmse:0.370252\n",
      "[137]\ttrain-rmse:0.287185\tvalid-rmse:0.370196\n",
      "[138]\ttrain-rmse:0.28699\tvalid-rmse:0.370227\n",
      "[139]\ttrain-rmse:0.286831\tvalid-rmse:0.370226\n",
      "[140]\ttrain-rmse:0.286591\tvalid-rmse:0.370313\n",
      "[141]\ttrain-rmse:0.286306\tvalid-rmse:0.370253\n",
      "[142]\ttrain-rmse:0.285944\tvalid-rmse:0.370232\n",
      "[143]\ttrain-rmse:0.28577\tvalid-rmse:0.370269\n",
      "[144]\ttrain-rmse:0.285534\tvalid-rmse:0.370231\n",
      "[145]\ttrain-rmse:0.285199\tvalid-rmse:0.370207\n",
      "[146]\ttrain-rmse:0.285024\tvalid-rmse:0.370205\n",
      "[147]\ttrain-rmse:0.28495\tvalid-rmse:0.370203\n",
      "[148]\ttrain-rmse:0.28477\tvalid-rmse:0.370182\n",
      "[149]\ttrain-rmse:0.284191\tvalid-rmse:0.370281\n",
      "[150]\ttrain-rmse:0.28378\tvalid-rmse:0.370234\n",
      "[151]\ttrain-rmse:0.283609\tvalid-rmse:0.370179\n",
      "[152]\ttrain-rmse:0.2835\tvalid-rmse:0.370143\n",
      "[153]\ttrain-rmse:0.283357\tvalid-rmse:0.370259\n",
      "[154]\ttrain-rmse:0.283216\tvalid-rmse:0.370255\n",
      "[155]\ttrain-rmse:0.283027\tvalid-rmse:0.370194\n",
      "[156]\ttrain-rmse:0.282886\tvalid-rmse:0.370229\n",
      "[157]\ttrain-rmse:0.282744\tvalid-rmse:0.37023\n",
      "[158]\ttrain-rmse:0.282485\tvalid-rmse:0.370216\n",
      "[159]\ttrain-rmse:0.282195\tvalid-rmse:0.370163\n",
      "[160]\ttrain-rmse:0.281685\tvalid-rmse:0.370199\n",
      "[161]\ttrain-rmse:0.281566\tvalid-rmse:0.370241\n",
      "[162]\ttrain-rmse:0.28136\tvalid-rmse:0.370187\n",
      "[163]\ttrain-rmse:0.281159\tvalid-rmse:0.370254\n",
      "[164]\ttrain-rmse:0.280957\tvalid-rmse:0.370317\n",
      "[165]\ttrain-rmse:0.28064\tvalid-rmse:0.370253\n",
      "[166]\ttrain-rmse:0.280443\tvalid-rmse:0.370236\n",
      "[167]\ttrain-rmse:0.280256\tvalid-rmse:0.370174\n",
      "[168]\ttrain-rmse:0.27963\tvalid-rmse:0.370204\n",
      "[169]\ttrain-rmse:0.279361\tvalid-rmse:0.370161\n",
      "[170]\ttrain-rmse:0.279023\tvalid-rmse:0.370172\n",
      "[171]\ttrain-rmse:0.278839\tvalid-rmse:0.370228\n",
      "[172]\ttrain-rmse:0.278408\tvalid-rmse:0.370151\n",
      "[173]\ttrain-rmse:0.278281\tvalid-rmse:0.3701\n",
      "[174]\ttrain-rmse:0.278096\tvalid-rmse:0.370043\n",
      "[175]\ttrain-rmse:0.277947\tvalid-rmse:0.369977\n",
      "[176]\ttrain-rmse:0.277687\tvalid-rmse:0.369932\n",
      "[177]\ttrain-rmse:0.277474\tvalid-rmse:0.369916\n",
      "[178]\ttrain-rmse:0.277025\tvalid-rmse:0.369874\n",
      "[179]\ttrain-rmse:0.276693\tvalid-rmse:0.369874\n"
     ]
    },
    {
     "name": "stdout",
     "output_type": "stream",
     "text": [
      "[180]\ttrain-rmse:0.276182\tvalid-rmse:0.369965\n",
      "[181]\ttrain-rmse:0.275978\tvalid-rmse:0.369943\n",
      "[182]\ttrain-rmse:0.275379\tvalid-rmse:0.36989\n",
      "[183]\ttrain-rmse:0.275188\tvalid-rmse:0.369828\n",
      "[184]\ttrain-rmse:0.274872\tvalid-rmse:0.36979\n",
      "[185]\ttrain-rmse:0.274561\tvalid-rmse:0.369768\n",
      "[186]\ttrain-rmse:0.274266\tvalid-rmse:0.369699\n",
      "[187]\ttrain-rmse:0.273932\tvalid-rmse:0.369753\n",
      "[188]\ttrain-rmse:0.273766\tvalid-rmse:0.369698\n",
      "[189]\ttrain-rmse:0.273524\tvalid-rmse:0.369718\n",
      "[190]\ttrain-rmse:0.273392\tvalid-rmse:0.369804\n",
      "[191]\ttrain-rmse:0.273316\tvalid-rmse:0.369821\n",
      "[192]\ttrain-rmse:0.273133\tvalid-rmse:0.36982\n",
      "[193]\ttrain-rmse:0.272841\tvalid-rmse:0.369864\n",
      "[194]\ttrain-rmse:0.27261\tvalid-rmse:0.369859\n",
      "[195]\ttrain-rmse:0.27254\tvalid-rmse:0.369825\n",
      "[196]\ttrain-rmse:0.272421\tvalid-rmse:0.369894\n",
      "[197]\ttrain-rmse:0.272174\tvalid-rmse:0.369916\n",
      "[198]\ttrain-rmse:0.271756\tvalid-rmse:0.369878\n",
      "[199]\ttrain-rmse:0.271516\tvalid-rmse:0.369803\n"
     ]
    }
   ],
   "source": [
    "train_predict = trainn[cols]\n",
    "y = np.log(train_predict['trip_duration'].values + 1)\n",
    "del train_predict['trip_duration']\n",
    "X = train_predict\n",
    "\n",
    "Xtr, Xv, ytr, yv = train_test_split(X.values, y, test_size=0.05, random_state=9616)\n",
    "dtrain = xgb.DMatrix(Xtr, label=ytr, feature_names=test_cols)\n",
    "dvalid = xgb.DMatrix(Xv, label=yv, feature_names=test_cols)\n",
    "watchlist = [(dtrain, 'train'), (dvalid, 'valid')]\n",
    "\n",
    "xgb_pars = {'min_child_weight': 20, 'eta': 0.05, 'max_depth': 14,\n",
    "            'subsample': 0.8, 'nthread': -1, 'booster' : 'gbtree', 'silent': 1, 'lambda': 2.,\n",
    "            'eval_metric': 'rmse', 'objective': 'reg:linear', 'colsample_bytree': 0.8, 'colsample_bylevel': 1}\n",
    "\n",
    "model_3 = xgb.train(xgb_pars, dtrain, 200, watchlist, early_stopping_rounds=30,\n",
    "                  maximize=False, verbose_eval=1)"
   ]
  },
  {
   "cell_type": "code",
   "execution_count": 101,
   "metadata": {},
   "outputs": [
    {
     "data": {
      "image/png": "[encoded data removed]",
      "text/plain": [
       "<matplotlib.figure.Figure at 0x2103a5c26d8>"
      ]
     },
     "metadata": {},
     "output_type": "display_data"
    }
   ],
   "source": [
    "fig, ax = plt.subplots(figsize=(13,13))\n",
    "sns.set(style='white')\n",
    "xgb.plot_importance(model_3, ax=ax)\n",
    "plt.show()"
   ]
  },
  {
   "cell_type": "markdown",
   "metadata": {},
   "source": [
    "F-score reveals the discriminative power of each feature independently from others. One score is computed for the first feature, and another score is computed for the second feature. But it does not indicate anything on the combination of both features"
   ]
  },
  {
   "cell_type": "code",
   "execution_count": 142,
   "metadata": {
    "collapsed": true
   },
   "outputs": [],
   "source": [
    "test_df = test[test_cols]\n",
    "dtest = xgb.DMatrix(test_df.values, feature_names=test_cols)\n",
    "ytest = model_3.predict(dtest)"
   ]
  },
  {
   "cell_type": "markdown",
   "metadata": {},
   "source": [
    "## Predict"
   ]
  },
  {
   "cell_type": "code",
   "execution_count": 144,
   "metadata": {
    "collapsed": true
   },
   "outputs": [],
   "source": [
    "# submit = pd.DataFrame()\n",
    "# submit['id'] = test.id\n",
    "# submit['trip_duration'] = ytest\n",
    "# submit['trip_duration'] = np.exp(submit['trip_duration'])\n",
    "# submit.to_csv('submission.csv', index=False)"
   ]
  },
  {
   "cell_type": "code",
   "execution_count": 141,
   "metadata": {
    "collapsed": true
   },
   "outputs": [],
   "source": [
    "# Save the model\n",
    "# import pickle\n",
    "# filename = 'taxi_model_whole.sav'\n",
    "# pickle.dump(model_3, open(filename, 'wb'))"
   ]
  },
  {
   "cell_type": "code",
   "execution_count": null,
   "metadata": {
    "collapsed": true
   },
   "outputs": [],
   "source": [
    "# load the model from disk\n",
    "# loaded_model = pickle.load(open(filename, 'rb'))\n",
    "# loaded_model"
   ]
  },
  {
   "cell_type": "code",
   "execution_count": null,
   "metadata": {
    "collapsed": true
   },
   "outputs": [],
   "source": [
    "# import urllib, json\n",
    "# import urllib.request\n",
    "# def google(lato, lono, latd, lond):\n",
    "#     url = \"\"\"http://maps.googleapis.com/maps/api/distancematrix/json?origins=%s,%s\"\"\"%(lato, lono)+  \\\n",
    "#     \"\"\"&destinations=%s,%s&mode=driving&language=en-EN&sensor=false\"\"\"% (latd, lond)\n",
    "#     response = urllib.request.urlopen(url)\n",
    "#     obj = json.load(response)\n",
    "#     try:\n",
    "#         minutes =   obj['rows'][0]['elements'][0]['duration']['value']/60\n",
    "#         kilometers = (obj['rows'][0]['elements'][0]['distance']['value']/1000) #kilometers\n",
    "#         return minutes, kilometers\n",
    "#     except IndexError:\n",
    "#         return None,None\n",
    "\n",
    "# orig_lat = 40.767937;orig_lng = -73.982155\n",
    "# dest_lat = 40.765602;dest_lng = -73.964630\n",
    "# time,dist = google(orig_lat,orig_lng,dest_lat,dest_lng)\n",
    "# print('It takes %1.2f min to arrive the destiny with distance %1.3f km.'%(time,dist))"
   ]
  }
 ],
 "metadata": {
  "kernelspec": {
   "display_name": "Python 3",
   "language": "python",
   "name": "python3"
  },
  "language_info": {
   "codemirror_mode": {
    "name": "ipython",
    "version": 3
   },
   "file_extension": ".py",
   "mimetype": "text/x-python",
   "name": "python",
   "nbconvert_exporter": "python",
   "pygments_lexer": "ipython3",
   "version": "3.6.1"
  }
 },
 "nbformat": 4,
 "nbformat_minor": 2
}
